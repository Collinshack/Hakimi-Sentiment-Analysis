{
 "cells": [
  {
   "cell_type": "markdown",
   "id": "2133180a",
   "metadata": {},
   "source": [
    "# Sentiment Analysis on Hakimi's Case"
   ]
  },
  {
   "cell_type": "markdown",
   "id": "962d299a",
   "metadata": {},
   "source": [
    "### Scraping the Data:"
   ]
  },
  {
   "cell_type": "code",
   "execution_count": 6,
   "id": "2fd70ec0",
   "metadata": {},
   "outputs": [],
   "source": [
    "import pandas as pd\n",
    "import snscrape.modules.twitter as sntwitter \n",
    "from tqdm.notebook import tqdm \n"
   ]
  },
  {
   "cell_type": "code",
   "execution_count": 63,
   "id": "36cc0bb0",
   "metadata": {},
   "outputs": [],
   "source": [
    "no_of_tweet = 100_000\n",
    "hakimi = sntwitter.TwitterSearchScraper('hakimi')\n",
    "tweets = []\n",
    "for i, tweet in tqdm(enumerate(hakimi.get_items()), total=no_of_tweet):\n",
    "    data = [\n",
    "        tweet.date,\n",
    "        tweet.id,\n",
    "        tweet.user.username,\n",
    "        tweet.rawContent,\n",
    "        tweet.likeCount, \n",
    "        tweet.retweetCount,\n",
    "    ]\n",
    "    tweets.append(data)\n",
    "    if i > no_of_tweet:\n",
    "        break\n",
    "\n",
    "tweets_df = pd.DataFrame(tweets, columns=['Date', 'Tweet ID', 'Username', 'Post', 'Likes', 'Retweets' ])\n",
    "tweets_df.to_csv('tweets.csv')"
   ]
  },
  {
   "cell_type": "markdown",
   "id": "7b165d30",
   "metadata": {},
   "source": [
    "### Loading the CSV"
   ]
  },
  {
   "cell_type": "code",
   "execution_count": 91,
   "id": "b8670898",
   "metadata": {},
   "outputs": [
    {
     "data": {
      "text/html": [
       "<div>\n",
       "<style scoped>\n",
       "    .dataframe tbody tr th:only-of-type {\n",
       "        vertical-align: middle;\n",
       "    }\n",
       "\n",
       "    .dataframe tbody tr th {\n",
       "        vertical-align: top;\n",
       "    }\n",
       "\n",
       "    .dataframe thead th {\n",
       "        text-align: right;\n",
       "    }\n",
       "</style>\n",
       "<table border=\"1\" class=\"dataframe\">\n",
       "  <thead>\n",
       "    <tr style=\"text-align: right;\">\n",
       "      <th></th>\n",
       "      <th>Date</th>\n",
       "      <th>Tweet ID</th>\n",
       "      <th>Username</th>\n",
       "      <th>Post</th>\n",
       "      <th>Likes</th>\n",
       "      <th>Retweets</th>\n",
       "    </tr>\n",
       "  </thead>\n",
       "  <tbody>\n",
       "    <tr>\n",
       "      <th>24286</th>\n",
       "      <td>2023-04-15 08:11:35+00:00</td>\n",
       "      <td>1647150663460339714</td>\n",
       "      <td>ibrahimyusuf212</td>\n",
       "      <td>Is not has if I have not tried this #hakimi me...</td>\n",
       "      <td>0</td>\n",
       "      <td>0</td>\n",
       "    </tr>\n",
       "    <tr>\n",
       "      <th>24287</th>\n",
       "      <td>2023-04-15 08:11:35+00:00</td>\n",
       "      <td>1647150661912412161</td>\n",
       "      <td>Bby_gurl_bella</td>\n",
       "      <td>@_UR_VINNIE Still na he d see am pass</td>\n",
       "      <td>1</td>\n",
       "      <td>0</td>\n",
       "    </tr>\n",
       "    <tr>\n",
       "      <th>24288</th>\n",
       "      <td>2023-04-15 08:11:34+00:00</td>\n",
       "      <td>1647150658858938368</td>\n",
       "      <td>Kaarl911</td>\n",
       "      <td>@mistarfly @yabaleftonline Buh wetin him talk ...</td>\n",
       "      <td>14</td>\n",
       "      <td>1</td>\n",
       "    </tr>\n",
       "    <tr>\n",
       "      <th>24289</th>\n",
       "      <td>2023-04-15 08:11:33+00:00</td>\n",
       "      <td>1647150653377228800</td>\n",
       "      <td>Amazingrace81</td>\n",
       "      <td>@vanguardngrnews If truly Mr P said those word...</td>\n",
       "      <td>1</td>\n",
       "      <td>0</td>\n",
       "    </tr>\n",
       "    <tr>\n",
       "      <th>24290</th>\n",
       "      <td>2023-04-15 08:11:32+00:00</td>\n",
       "      <td>1647150652714364928</td>\n",
       "      <td>Ednah___</td>\n",
       "      <td>Hakimi 💀</td>\n",
       "      <td>0</td>\n",
       "      <td>0</td>\n",
       "    </tr>\n",
       "    <tr>\n",
       "      <th>24291</th>\n",
       "      <td>2023-04-15 08:11:32+00:00</td>\n",
       "      <td>1647150651682455552</td>\n",
       "      <td>Vhardy69</td>\n",
       "      <td>@kobiwaynejr 😂😂</td>\n",
       "      <td>0</td>\n",
       "      <td>0</td>\n",
       "    </tr>\n",
       "    <tr>\n",
       "      <th>24292</th>\n",
       "      <td>2023-04-15 08:11:31+00:00</td>\n",
       "      <td>1647150646636716032</td>\n",
       "      <td>pellymane</td>\n",
       "      <td>Good morning my fellow Hakimi men @TommyOffixi...</td>\n",
       "      <td>2</td>\n",
       "      <td>0</td>\n",
       "    </tr>\n",
       "    <tr>\n",
       "      <th>24293</th>\n",
       "      <td>2023-04-15 08:11:31+00:00</td>\n",
       "      <td>1647150645500338178</td>\n",
       "      <td>latestly</td>\n",
       "      <td>Achraf Hakimi's Property Registered Under Moth...</td>\n",
       "      <td>0</td>\n",
       "      <td>0</td>\n",
       "    </tr>\n",
       "    <tr>\n",
       "      <th>24294</th>\n",
       "      <td>2023-04-15 08:11:30+00:00</td>\n",
       "      <td>1647150644753747969</td>\n",
       "      <td>GloriaWilfred</td>\n",
       "      <td>Someone said that Hakimi is a true alpha male ☹️.</td>\n",
       "      <td>0</td>\n",
       "      <td>0</td>\n",
       "    </tr>\n",
       "    <tr>\n",
       "      <th>24295</th>\n",
       "      <td>2023-04-15 08:11:30+00:00</td>\n",
       "      <td>1647150642559950849</td>\n",
       "      <td>AndyjnrUmaru</td>\n",
       "      <td>This HAKIMI matter don tire me, everybody star...</td>\n",
       "      <td>26</td>\n",
       "      <td>7</td>\n",
       "    </tr>\n",
       "  </tbody>\n",
       "</table>\n",
       "</div>"
      ],
      "text/plain": [
       "                            Date             Tweet ID         Username  \\\n",
       "24286  2023-04-15 08:11:35+00:00  1647150663460339714  ibrahimyusuf212   \n",
       "24287  2023-04-15 08:11:35+00:00  1647150661912412161   Bby_gurl_bella   \n",
       "24288  2023-04-15 08:11:34+00:00  1647150658858938368         Kaarl911   \n",
       "24289  2023-04-15 08:11:33+00:00  1647150653377228800    Amazingrace81   \n",
       "24290  2023-04-15 08:11:32+00:00  1647150652714364928         Ednah___   \n",
       "24291  2023-04-15 08:11:32+00:00  1647150651682455552         Vhardy69   \n",
       "24292  2023-04-15 08:11:31+00:00  1647150646636716032        pellymane   \n",
       "24293  2023-04-15 08:11:31+00:00  1647150645500338178         latestly   \n",
       "24294  2023-04-15 08:11:30+00:00  1647150644753747969    GloriaWilfred   \n",
       "24295  2023-04-15 08:11:30+00:00  1647150642559950849     AndyjnrUmaru   \n",
       "\n",
       "                                                    Post  Likes  Retweets  \n",
       "24286  Is not has if I have not tried this #hakimi me...      0         0  \n",
       "24287              @_UR_VINNIE Still na he d see am pass      1         0  \n",
       "24288  @mistarfly @yabaleftonline Buh wetin him talk ...     14         1  \n",
       "24289  @vanguardngrnews If truly Mr P said those word...      1         0  \n",
       "24290                                           Hakimi 💀      0         0  \n",
       "24291                                    @kobiwaynejr 😂😂      0         0  \n",
       "24292  Good morning my fellow Hakimi men @TommyOffixi...      2         0  \n",
       "24293  Achraf Hakimi's Property Registered Under Moth...      0         0  \n",
       "24294  Someone said that Hakimi is a true alpha male ☹️.      0         0  \n",
       "24295  This HAKIMI matter don tire me, everybody star...     26         7  "
      ]
     },
     "execution_count": 91,
     "metadata": {},
     "output_type": "execute_result"
    }
   ],
   "source": [
    "hk = pd.read_csv('tweets.csv', usecols=['Date', 'Tweet ID', 'Username', 'Post', 'Likes', 'Retweets'])\n",
    "\n",
    "hk.to_csv('tweets.csv')\n",
    "hk.tail(10)"
   ]
  },
  {
   "cell_type": "markdown",
   "id": "e07f1e20",
   "metadata": {},
   "source": [
    "### Sentiment Analysis:\n"
   ]
  },
  {
   "cell_type": "code",
   "execution_count": 77,
   "id": "cf1aa539",
   "metadata": {},
   "outputs": [
    {
     "data": {
      "image/png": "[encoded data removed]",
      "text/plain": [
       "<Figure size 432x288 with 1 Axes>"
      ]
     },
     "metadata": {},
     "output_type": "display_data"
    },
    {
     "data": {
      "image/png": "[encoded data removed]",
      "text/plain": [
       "<Figure size 432x288 with 1 Axes>"
      ]
     },
     "metadata": {},
     "output_type": "display_data"
    }
   ],
   "source": [
    "import pandas as pd\n",
    "import numpy as np\n",
    "import re\n",
    "import matplotlib.pyplot as plt\n",
    "import seaborn as sns\n",
    "from textblob import TextBlob\n",
    "\n",
    "# Load the CSV file into a pandas DataFrame\n",
    "df = pd.read_csv('tweets.csv', usecols=['Date', 'Tweet ID', 'Username', 'Post', 'Likes', 'Retweets'])\n",
    "\n",
    "# Define a function to calculate sentiment polarity using TextBlob\n",
    "def get_sentiment(tweet):\n",
    "    blob = TextBlob(tweet)\n",
    "    return blob.sentiment.polarity\n",
    "\n",
    "# Apply the get_sentiment function to the 'Post' column to get the sentiment polarity for each tweet\n",
    "df['Sentiment'] = df['Post'].apply(get_sentiment)\n",
    "\n",
    "# Create a new column 'Sentiment_Label' based on the sentiment polarity score\n",
    "df['Sentiment_Label'] = df['Sentiment'].apply(lambda x: 'Positive' if x > 0 else ('Negative' if x < 0 else 'Neutral'))\n",
    "\n",
    "# Visualize the distribution of sentiment polarity scores\n",
    "plt.hist(df['Sentiment'])\n",
    "plt.xlabel('Sentiment Polarity')\n",
    "plt.ylabel('Frequency')\n",
    "plt.title('Sentiment Polarity Distribution')\n",
    "plt.show()\n",
    "\n",
    "# Visualize the distribution of sentiment labels\n",
    "plt.bar(df['Sentiment_Label'].unique(), df['Sentiment_Label'].value_counts())\n",
    "plt.xlabel('Sentiment Label')\n",
    "plt.ylabel('Frequency')\n",
    "plt.title('Sentiment Label Distribution')\n",
    "plt.show()\n",
    "\n",
    "df.to_csv('tweets-with-sentiment.csv', index=False)\n",
    "\n"
   ]
  },
  {
   "cell_type": "markdown",
   "id": "73049116",
   "metadata": {},
   "source": [
    "### Bar Plot\n"
   ]
  },
  {
   "cell_type": "code",
   "execution_count": 85,
   "id": "1303ba88",
   "metadata": {
    "scrolled": true
   },
   "outputs": [
    {
     "data": {
      "image/png": "[encoded data removed]",
      "text/plain": [
       "<Figure size 432x288 with 1 Axes>"
      ]
     },
     "metadata": {},
     "output_type": "display_data"
    }
   ],
   "source": [
    "\n",
    "# Load the CSV file into a DataFrame\n",
    "df = pd.read_csv(\"tweets.csv\", usecols=['Date', 'Tweet ID', 'Username', 'Post', 'Likes', 'Retweets'])\n",
    "\n",
    "# Define a function to clean the tweets\n",
    "def clean_tweet(tweet):\n",
    "    '''\n",
    "    Utility function to clean the text in a tweet by removing\n",
    "    links and special characters using regex.\n",
    "    '''\n",
    "    return ' '.join(re.sub(\"(@[A-Za-z0-9]+)|([^0-9A-Za-z \\t])|(\\w+:\\/\\/\\S+)\", \" \", tweet).split())\n",
    "\n",
    "# Define a function to analyze the sentiment of a tweet using TextBlob\n",
    "def analyze_sentiment(tweet):\n",
    "    '''\n",
    "    Utility function to classify the polarity of a tweet\n",
    "    using TextBlob.\n",
    "    '''\n",
    "    analysis = TextBlob(clean_tweet(tweet))\n",
    "    if analysis.sentiment.polarity > 0:\n",
    "        return 'positive'\n",
    "    elif analysis.sentiment.polarity == 0:\n",
    "        return 'neutral'\n",
    "    else:\n",
    "        return 'negative'\n",
    "\n",
    "# Create a new column in the DataFrame to store the sentiment of each tweet\n",
    "df['Sentiment'] = df['Post'].apply(analyze_sentiment)\n",
    "\n",
    "# Create a new column in the DataFrame to store the type of sentiment of each tweet\n",
    "df['Sentiment Type'] = np.where(df['Sentiment'] == 'positive', 'supporting', \n",
    "                        (np.where(df['Sentiment'] == 'negative', 'disagreeing', 'neutral')))\n",
    "\n",
    "# Count the number of supporting, disagreeing, and neutral comments\n",
    "count_sentiments = df['Sentiment Type'].value_counts()\n",
    "\n",
    "# Plot a bar graph of the supporting, disagreeing, and neutral comments\n",
    "sns.set(style=\"whitegrid\")\n",
    "ax = sns.barplot(x=count_sentiments.index, y=count_sentiments.values)\n",
    "plt.title(\"Sentiment Analysis Results\")\n",
    "plt.xlabel(\"Sentiment Type\")\n",
    "plt.ylabel(\"Number of Comments\")\n",
    "plt.show()\n"
   ]
  },
  {
   "cell_type": "markdown",
   "id": "6ede19a2",
   "metadata": {},
   "source": [
    "### Pie Chart"
   ]
  },
  {
   "cell_type": "code",
   "execution_count": 80,
   "id": "0354444e",
   "metadata": {},
   "outputs": [
    {
     "data": {
      "image/png": "[encoded data removed]",
      "text/plain": [
       "<Figure size 432x288 with 1 Axes>"
      ]
     },
     "metadata": {},
     "output_type": "display_data"
    }
   ],
   "source": [
    "# load the CSV file\n",
    "df = pd.read_csv('Hakimi', usecols=['Post'])\n",
    "\n",
    "# initialize counters\n",
    "support_count = 0\n",
    "disagree_count = 0\n",
    "neutral_count = 0\n",
    "\n",
    "# loop through each tweet and perform sentiment analysis\n",
    "for tweet in df['Post']:\n",
    "    analysis = TextBlob(tweet)\n",
    "    if analysis.sentiment.polarity > 0:\n",
    "        support_count += 1\n",
    "    elif analysis.sentiment.polarity < 0:\n",
    "        disagree_count += 1\n",
    "    else:\n",
    "        neutral_count += 1\n",
    "\n",
    "# calculate percentages\n",
    "total_count = len(df)\n",
    "support_percent = (support_count / total_count) * 100\n",
    "disagree_percent = (disagree_count / total_count) * 100\n",
    "neutral_percent = (neutral_count / total_count) * 100\n",
    "\n",
    "# plot the results\n",
    "labels = ['Supporting Hakimi', 'Disagreeing', 'Neutral']\n",
    "sizes = [support_percent, disagree_percent, neutral_percent]\n",
    "colors = ['green', 'red', 'orange']\n",
    "explode = (0.1, 0.1, 0.1)\n",
    "\n",
    "plt.pie(sizes, explode=explode, labels=labels, colors=colors, autopct='%1.1f%%', startangle=90)\n",
    "plt.axis('equal')\n",
    "\n",
    "plt.show()\n"
   ]
  },
  {
   "cell_type": "code",
   "execution_count": null,
   "id": "c61327af",
   "metadata": {},
   "outputs": [],
   "source": []
  }
 ],
 "metadata": {
  "kernelspec": {
   "display_name": "Python 3 (ipykernel)",
   "language": "python",
   "name": "python3"
  },
  "language_info": {
   "codemirror_mode": {
    "name": "ipython",
    "version": 3
   },
   "file_extension": ".py",
   "mimetype": "text/x-python",
   "name": "python",
   "nbconvert_exporter": "python",
   "pygments_lexer": "ipython3",
   "version": "3.9.7"
  }
 },
 "nbformat": 4,
 "nbformat_minor": 5
}
